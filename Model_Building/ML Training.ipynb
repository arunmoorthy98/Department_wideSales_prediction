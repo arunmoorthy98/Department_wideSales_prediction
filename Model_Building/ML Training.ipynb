{
 "cells": [
  {
   "cell_type": "code",
   "execution_count": null,
   "metadata": {
    "application/vnd.databricks.v1+cell": {
     "cellMetadata": {
      "byteLimit": 2048000,
      "rowLimit": 10000
     },
     "inputWidgets": {},
     "nuid": "d8f1333f-71c8-449c-a08f-7f5c393e30c7",
     "showTitle": false,
     "title": ""
    }
   },
   "outputs": [],
   "source": [
    "from sklearn.model_selection import train_test_split\n",
    "from sklearn.compose import ColumnTransformer\n",
    "from sklearn.preprocessing import OneHotEncoder \n",
    "from sklearn.preprocessing import OrdinalEncoder\n",
    "from sklearn.ensemble import RandomForestRegressor\n",
    "from sklearn.metrics import mean_absolute_error,mean_squared_error,r2_score"
   ]
  },
  {
   "cell_type": "code",
   "execution_count": null,
   "metadata": {
    "application/vnd.databricks.v1+cell": {
     "cellMetadata": {
      "byteLimit": 2048000,
      "rowLimit": 10000
     },
     "inputWidgets": {},
     "nuid": "37e6d495-b4af-43b2-863f-4e023b9cbc61",
     "showTitle": false,
     "title": ""
    }
   },
   "outputs": [],
   "source": [
    "def evaluation_metrics(y_test,y_pred):\n",
    "    rmse = mean_squared_error(y_test,y_pred,squared = False)\n",
    "    mae = mean_absolute_error(y_test,y_pred)\n",
    "    r2 = r2_score(y_test,y_pred)\n",
    "    return rmse,mae,r2"
   ]
  },
  {
   "cell_type": "code",
   "execution_count": null,
   "metadata": {
    "application/vnd.databricks.v1+cell": {
     "cellMetadata": {
      "byteLimit": 2048000,
      "rowLimit": 10000
     },
     "inputWidgets": {},
     "nuid": "30b4887e-dcf8-4ee2-9c3c-c8832e25dc24",
     "showTitle": false,
     "title": ""
    }
   },
   "outputs": [
    {
     "data": {
      "text/html": [
       "<div>\n",
       "<style scoped>\n",
       "    .dataframe tbody tr th:only-of-type {\n",
       "        vertical-align: middle;\n",
       "    }\n",
       "\n",
       "    .dataframe tbody tr th {\n",
       "        vertical-align: top;\n",
       "    }\n",
       "\n",
       "    .dataframe thead th {\n",
       "        text-align: right;\n",
       "    }\n",
       "</style>\n",
       "<table border=\"1\" class=\"dataframe\">\n",
       "  <thead>\n",
       "    <tr style=\"text-align: right;\">\n",
       "      <th></th>\n",
       "      <th>Year</th>\n",
       "      <th>Store</th>\n",
       "      <th>Store_Type</th>\n",
       "      <th>Dept</th>\n",
       "      <th>Temperature</th>\n",
       "      <th>Fuel_Price</th>\n",
       "      <th>CPI</th>\n",
       "      <th>Unemployment</th>\n",
       "      <th>Total_Sales</th>\n",
       "    </tr>\n",
       "  </thead>\n",
       "  <tbody>\n",
       "    <tr>\n",
       "      <th>0</th>\n",
       "      <td>2012</td>\n",
       "      <td>1</td>\n",
       "      <td>A</td>\n",
       "      <td>1</td>\n",
       "      <td>86.11</td>\n",
       "      <td>3.417</td>\n",
       "      <td>221.949864</td>\n",
       "      <td>6.908</td>\n",
       "      <td>16628.31</td>\n",
       "    </tr>\n",
       "    <tr>\n",
       "      <th>1</th>\n",
       "      <td>2011</td>\n",
       "      <td>1</td>\n",
       "      <td>A</td>\n",
       "      <td>2</td>\n",
       "      <td>75.64</td>\n",
       "      <td>3.899</td>\n",
       "      <td>215.964053</td>\n",
       "      <td>7.682</td>\n",
       "      <td>44274.15</td>\n",
       "    </tr>\n",
       "    <tr>\n",
       "      <th>2</th>\n",
       "      <td>2010</td>\n",
       "      <td>1</td>\n",
       "      <td>A</td>\n",
       "      <td>3</td>\n",
       "      <td>46.63</td>\n",
       "      <td>2.561</td>\n",
       "      <td>211.319643</td>\n",
       "      <td>8.106</td>\n",
       "      <td>11135.17</td>\n",
       "    </tr>\n",
       "    <tr>\n",
       "      <th>3</th>\n",
       "      <td>2012</td>\n",
       "      <td>1</td>\n",
       "      <td>A</td>\n",
       "      <td>6</td>\n",
       "      <td>75.55</td>\n",
       "      <td>3.749</td>\n",
       "      <td>221.671800</td>\n",
       "      <td>7.143</td>\n",
       "      <td>4658.18</td>\n",
       "    </tr>\n",
       "    <tr>\n",
       "      <th>4</th>\n",
       "      <td>2012</td>\n",
       "      <td>1</td>\n",
       "      <td>A</td>\n",
       "      <td>6</td>\n",
       "      <td>68.55</td>\n",
       "      <td>3.617</td>\n",
       "      <td>223.181477</td>\n",
       "      <td>6.573</td>\n",
       "      <td>3843.29</td>\n",
       "    </tr>\n",
       "  </tbody>\n",
       "</table>\n",
       "</div>"
      ],
      "text/plain": [
       "   Year  Store Store_Type  ...         CPI  Unemployment  Total_Sales\n",
       "0  2012      1          A  ...  221.949864         6.908     16628.31\n",
       "1  2011      1          A  ...  215.964053         7.682     44274.15\n",
       "2  2010      1          A  ...  211.319643         8.106     11135.17\n",
       "3  2012      1          A  ...  221.671800         7.143      4658.18\n",
       "4  2012      1          A  ...  223.181477         6.573      3843.29\n",
       "\n",
       "[5 rows x 9 columns]"
      ]
     },
     "execution_count": 4,
     "metadata": {},
     "output_type": "execute_result"
    }
   ],
   "source": [
    "spark_df = spark.read.load('/FileStore/tables/consolidate/merged_df.csv', format = 'csv', header = True, inferSchema = True)\n",
    "\n",
    "df = spark_df.toPandas()\n",
    "df.head()"
   ]
  },
  {
   "cell_type": "code",
   "execution_count": null,
   "metadata": {
    "application/vnd.databricks.v1+cell": {
     "cellMetadata": {
      "byteLimit": 2048000,
      "rowLimit": 10000
     },
     "inputWidgets": {},
     "nuid": "471815ab-e38e-4c5d-be48-6ab7416b56e2",
     "showTitle": false,
     "title": ""
    }
   },
   "outputs": [],
   "source": [
    "X = df.drop('Total_Sales', axis = 1)\n",
    "y = df['Total_Sales']"
   ]
  },
  {
   "cell_type": "code",
   "execution_count": null,
   "metadata": {
    "application/vnd.databricks.v1+cell": {
     "cellMetadata": {
      "byteLimit": 2048000,
      "rowLimit": 10000
     },
     "inputWidgets": {},
     "nuid": "89252f6f-c369-4749-b8f1-d2d7266d9491",
     "showTitle": false,
     "title": ""
    }
   },
   "outputs": [
    {
     "data": {
      "text/html": [
       "<div>\n",
       "<style scoped>\n",
       "    .dataframe tbody tr th:only-of-type {\n",
       "        vertical-align: middle;\n",
       "    }\n",
       "\n",
       "    .dataframe tbody tr th {\n",
       "        vertical-align: top;\n",
       "    }\n",
       "\n",
       "    .dataframe thead th {\n",
       "        text-align: right;\n",
       "    }\n",
       "</style>\n",
       "<table border=\"1\" class=\"dataframe\">\n",
       "  <thead>\n",
       "    <tr style=\"text-align: right;\">\n",
       "      <th></th>\n",
       "      <th>Year</th>\n",
       "      <th>Store</th>\n",
       "      <th>Store_Type</th>\n",
       "      <th>Dept</th>\n",
       "      <th>Temperature</th>\n",
       "      <th>Fuel_Price</th>\n",
       "      <th>CPI</th>\n",
       "      <th>Unemployment</th>\n",
       "    </tr>\n",
       "  </thead>\n",
       "  <tbody>\n",
       "    <tr>\n",
       "      <th>138466</th>\n",
       "      <td>2010</td>\n",
       "      <td>37</td>\n",
       "      <td>C</td>\n",
       "      <td>93</td>\n",
       "      <td>79.93</td>\n",
       "      <td>2.705</td>\n",
       "      <td>209.939809</td>\n",
       "      <td>8.464</td>\n",
       "    </tr>\n",
       "    <tr>\n",
       "      <th>289214</th>\n",
       "      <td>2010</td>\n",
       "      <td>26</td>\n",
       "      <td>A</td>\n",
       "      <td>42</td>\n",
       "      <td>61.65</td>\n",
       "      <td>2.906</td>\n",
       "      <td>132.293936</td>\n",
       "      <td>8.512</td>\n",
       "    </tr>\n",
       "  </tbody>\n",
       "</table>\n",
       "</div>"
      ],
      "text/plain": [
       "        Year  Store Store_Type  ...  Fuel_Price         CPI  Unemployment\n",
       "138466  2010     37          C  ...       2.705  209.939809         8.464\n",
       "289214  2010     26          A  ...       2.906  132.293936         8.512\n",
       "\n",
       "[2 rows x 8 columns]"
      ]
     },
     "execution_count": 6,
     "metadata": {},
     "output_type": "execute_result"
    }
   ],
   "source": [
    "X_train, X_test, y_train, y_test = train_test_split(X, y, test_size = 0.2, random_state = 42)\n",
    "X_train.head(2)"
   ]
  },
  {
   "cell_type": "code",
   "execution_count": null,
   "metadata": {
    "application/vnd.databricks.v1+cell": {
     "cellMetadata": {
      "byteLimit": 2048000,
      "rowLimit": 10000
     },
     "inputWidgets": {},
     "nuid": "ecf63fa1-309b-4601-9136-4cf49501979e",
     "showTitle": false,
     "title": ""
    }
   },
   "outputs": [],
   "source": [
    "# Encoding Categorical Columns\n",
    "\n",
    "transformer = ColumnTransformer([('trans1',OrdinalEncoder(categories=[['A','B','C']]),[2])], remainder = 'passthrough')\n",
    "\n",
    "x_train_encoded = transformer.fit_transform(X_train)\n",
    "x_test_encoded = transformer.transform(X_test)"
   ]
  },
  {
   "cell_type": "code",
   "execution_count": null,
   "metadata": {
    "application/vnd.databricks.v1+cell": {
     "cellMetadata": {
      "byteLimit": 2048000,
      "rowLimit": 10000
     },
     "inputWidgets": {},
     "nuid": "0ed4107a-e074-4cc4-8f45-ccc50b827797",
     "showTitle": true,
     "title": "Grid Search CV - Hyperparamter tuning"
    }
   },
   "outputs": [
    {
     "name": "stdout",
     "output_type": "stream",
     "text": [
      "Fitting 3 folds for each of 2 candidates, totalling 6 fits\n",
      "[CV 1/3] END ..................n_estimators=100;, score=0.935 total time= 2.2min\n",
      "[CV 2/3] END ..................n_estimators=100;, score=0.926 total time= 2.1min\n",
      "[CV 3/3] END ..................n_estimators=100;, score=0.933 total time= 2.1min\n",
      "[CV 1/3] END ..................n_estimators=150;, score=0.935 total time= 3.1min\n",
      "[CV 2/3] END ..................n_estimators=150;, score=0.927 total time= 3.1min\n",
      "[CV 3/3] END ..................n_estimators=150;, score=0.933 total time= 3.1min\n"
     ]
    },
    {
     "data": {
      "application/vnd.jupyter.widget-view+json": {
       "model_id": "9189d3dccc9647aa93d4d8a54f9a70c4",
       "version_major": 2,
       "version_minor": 0
      },
      "text/plain": [
       "Uploading artifacts:   0%|          | 0/5 [00:00<?, ?it/s]"
      ]
     },
     "metadata": {},
     "output_type": "display_data"
    },
    {
     "data": {
      "application/vnd.jupyter.widget-view+json": {
       "model_id": "8f307a1939a845899f930a595d81a384",
       "version_major": 2,
       "version_minor": 0
      },
      "text/plain": [
       "Uploading /local_disk0/repl_tmp_data/ReplId-33b2f-71652-d5087-c/tmp6mkjpnv1/model/model.pkl:   0%|          | …"
      ]
     },
     "metadata": {},
     "output_type": "display_data"
    },
    {
     "data": {
      "application/vnd.jupyter.widget-view+json": {
       "model_id": "c4f0291df7864ab2a2ee095260cfed14",
       "version_major": 2,
       "version_minor": 0
      },
      "text/plain": [
       "Uploading artifacts:   0%|          | 0/5 [00:00<?, ?it/s]"
      ]
     },
     "metadata": {},
     "output_type": "display_data"
    },
    {
     "data": {
      "application/vnd.jupyter.widget-view+json": {
       "model_id": "d4e37fb511ba4f239a213ed911486ff8",
       "version_major": 2,
       "version_minor": 0
      },
      "text/plain": [
       "Uploading /local_disk0/repl_tmp_data/ReplId-33b2f-71652-d5087-c/tmp42kdv0g0/model/model.pkl:   0%|          | …"
      ]
     },
     "metadata": {},
     "output_type": "display_data"
    },
    {
     "data": {
      "text/plain": [
       "\u001b[0;31m---------------------------------------------------------------------------\u001b[0m\n",
       "\u001b[0;31mAttributeError\u001b[0m                            Traceback (most recent call last)\n",
       "File \u001b[0;32m<command-3461394460691664>, line 21\u001b[0m\n",
       "\u001b[1;32m     19\u001b[0m best_params \u001b[38;5;241m=\u001b[39m GS\u001b[38;5;241m.\u001b[39mbest_params_ \u001b[38;5;66;03m# To get only the best hyperparameter values that we searched for\u001b[39;00m\n",
       "\u001b[1;32m     20\u001b[0m n_est \u001b[38;5;241m=\u001b[39m best_params\u001b[38;5;241m.\u001b[39mvalues()\n",
       "\u001b[0;32m---> 21\u001b[0m \u001b[38;5;28mprint\u001b[39m(\u001b[38;5;124m'\u001b[39m\u001b[38;5;124mn_estimator\u001b[39m\u001b[38;5;124m'\u001b[39m\u001b[38;5;241m.\u001b[39mn_est)\n",
       "\u001b[1;32m     23\u001b[0m best_score \u001b[38;5;241m=\u001b[39m GS\u001b[38;5;241m.\u001b[39mbest_score_ \u001b[38;5;66;03m# score according to the metric we passes in refit\u001b[39;00m\n",
       "\u001b[1;32m     24\u001b[0m \u001b[38;5;28mprint\u001b[39m(\u001b[38;5;124m'\u001b[39m\u001b[38;5;124mR2 Score :\u001b[39m\u001b[38;5;124m'\u001b[39m,best_score)\n",
       "\n",
       "\u001b[0;31mAttributeError\u001b[0m: 'str' object has no attribute 'n_est'"
      ]
     },
     "metadata": {
      "application/vnd.databricks.v1+output": {
       "arguments": {},
       "data": "\u001b[0;31m---------------------------------------------------------------------------\u001b[0m\n\u001b[0;31mAttributeError\u001b[0m                            Traceback (most recent call last)\nFile \u001b[0;32m<command-3461394460691664>, line 21\u001b[0m\n\u001b[1;32m     19\u001b[0m best_params \u001b[38;5;241m=\u001b[39m GS\u001b[38;5;241m.\u001b[39mbest_params_ \u001b[38;5;66;03m# To get only the best hyperparameter values that we searched for\u001b[39;00m\n\u001b[1;32m     20\u001b[0m n_est \u001b[38;5;241m=\u001b[39m best_params\u001b[38;5;241m.\u001b[39mvalues()\n\u001b[0;32m---> 21\u001b[0m \u001b[38;5;28mprint\u001b[39m(\u001b[38;5;124m'\u001b[39m\u001b[38;5;124mn_estimator\u001b[39m\u001b[38;5;124m'\u001b[39m\u001b[38;5;241m.\u001b[39mn_est)\n\u001b[1;32m     23\u001b[0m best_score \u001b[38;5;241m=\u001b[39m GS\u001b[38;5;241m.\u001b[39mbest_score_ \u001b[38;5;66;03m# score according to the metric we passes in refit\u001b[39;00m\n\u001b[1;32m     24\u001b[0m \u001b[38;5;28mprint\u001b[39m(\u001b[38;5;124m'\u001b[39m\u001b[38;5;124mR2 Score :\u001b[39m\u001b[38;5;124m'\u001b[39m,best_score)\n\n\u001b[0;31mAttributeError\u001b[0m: 'str' object has no attribute 'n_est'",
       "errorSummary": "<span class='ansi-red-fg'>AttributeError</span>: 'str' object has no attribute 'n_est'",
       "errorTraceType": "ansi",
       "metadata": {},
       "type": "ipynbError"
      }
     },
     "output_type": "display_data"
    }
   ],
   "source": [
    "from sklearn.model_selection import GridSearchCV\n",
    "\n",
    "# Defining a Base model\n",
    "base_model = RandomForestRegressor(random_state = 42)\n",
    "\n",
    "# Make a dictionary of hyperparameters values to search\n",
    "search_space = {\"n_estimators\":[100,150]}\n",
    "\n",
    "# making an GridSearchCV Object\n",
    "GS = GridSearchCV(estimator = base_model,\n",
    "                  param_grid = search_space,\n",
    "                  scoring = 'r2',\n",
    "                  refit = 'r2', # this will return the model that is tested with the r2 metrices\n",
    "                  cv = 3,\n",
    "                  verbose = 4)\n",
    "\n",
    "GS.fit(x_train_encoded,y_train)\n",
    "\n",
    "best_params = GS.best_params_ # To get only the best hyperparameter values that we searched for\n",
    "n_est = best_params.values()\n",
    "print('n_estimator',n_est)\n",
    "\n",
    "best_score = GS.best_score_ # score according to the metric we passes in refit\n",
    "print('R2 Score :',best_score)"
   ]
  },
  {
   "cell_type": "code",
   "execution_count": null,
   "metadata": {
    "application/vnd.databricks.v1+cell": {
     "cellMetadata": {
      "byteLimit": 2048000,
      "rowLimit": 10000
     },
     "inputWidgets": {},
     "nuid": "a1575c78-cb40-4325-bd87-dd861e65438c",
     "showTitle": false,
     "title": ""
    }
   },
   "outputs": [
    {
     "name": "stdout",
     "output_type": "stream",
     "text": [
      "Trained Data Metrics - RMSE : 2076.5978566488047 | MAE : 708.1864164631615 | r2_score : 0.9915950036666051\n",
      "Predicted Data Metrics - RMSE : 6197.813142295127 | MAE : 1923.0415724897402 | r2_score : 0.9270752003057658\n"
     ]
    },
    {
     "name": "stderr",
     "output_type": "stream",
     "text": [
      "2023/11/10 12:30:22 WARNING mlflow.models.model: Model logged without a signature. Signatures will be required for upcoming model registry features as they validate model inputs and denote the expected schema of model outputs. Please visit https://www.mlflow.org/docs/2.7.1/models.html#set-signature-on-logged-model for instructions on setting a model signature on your logged model.\n"
     ]
    },
    {
     "data": {
      "application/vnd.jupyter.widget-view+json": {
       "model_id": "bd5bf353c24a43049f7d0cd92ca06ea0",
       "version_major": 2,
       "version_minor": 0
      },
      "text/plain": [
       "Uploading artifacts:   0%|          | 0/5 [00:00<?, ?it/s]"
      ]
     },
     "metadata": {},
     "output_type": "display_data"
    },
    {
     "data": {
      "application/vnd.jupyter.widget-view+json": {
       "model_id": "7edd7b7e5c9c4c3e977e9c91c865591b",
       "version_major": 2,
       "version_minor": 0
      },
      "text/plain": [
       "Uploading /local_disk0/repl_tmp_data/ReplId-33b2f-71652-d5087-c/tmps3qfa2f4/model/model.pkl:   0%|          | …"
      ]
     },
     "metadata": {},
     "output_type": "display_data"
    },
    {
     "name": "stderr",
     "output_type": "stream",
     "text": [
      "2023/11/10 12:31:18 WARNING mlflow.models.model: Model logged without a signature. Signatures will be required for upcoming model registry features as they validate model inputs and denote the expected schema of model outputs. Please visit https://www.mlflow.org/docs/2.7.1/models.html#set-signature-on-logged-model for instructions on setting a model signature on your logged model.\n",
      "2023/11/10 12:31:18 WARNING mlflow.sklearn: Model was missing function: predict. Not logging python_function flavor!\n"
     ]
    },
    {
     "data": {
      "application/vnd.jupyter.widget-view+json": {
       "model_id": "d42f6fb684454b2da0f032973180ce2f",
       "version_major": 2,
       "version_minor": 0
      },
      "text/plain": [
       "Uploading artifacts:   0%|          | 0/5 [00:00<?, ?it/s]"
      ]
     },
     "metadata": {},
     "output_type": "display_data"
    }
   ],
   "source": [
    "n_estimators = 100\n",
    "model = RandomForestRegressor(n_estimators = n_estimators, random_state = 42)\n",
    "model.fit(x_train_encoded,y_train)\n",
    "\n",
    "y_train_pred = model.predict(x_train_encoded)\n",
    "y_test_pred = model.predict(x_test_encoded)\n",
    "\n",
    "rmse_tr, mae_tr, r2_tr = evaluation_metrics(y_train,y_train_pred)\n",
    "print(f\"Trained Data Metrics - RMSE : {rmse_tr} | MAE : {mae_tr} | r2_score : {r2_tr}\")\n",
    "\n",
    "rmse_tt, mae_tt, r2_tt = evaluation_metrics(y_test,y_test_pred)\n",
    "print(f\"Predicted Data Metrics - RMSE : {rmse_tt} | MAE : {mae_tt} | r2_score : {r2_tt}\")"
   ]
  },
  {
   "cell_type": "code",
   "execution_count": null,
   "metadata": {
    "application/vnd.databricks.v1+cell": {
     "cellMetadata": {
      "byteLimit": 2048000,
      "rowLimit": 10000
     },
     "inputWidgets": {},
     "nuid": "2d9ac9a0-f9aa-48a9-9062-3c58a3f16294",
     "showTitle": false,
     "title": ""
    }
   },
   "outputs": [
    {
     "name": "stdout",
     "output_type": "stream",
     "text": [
      "The predicted value is : [16354.9561]\n"
     ]
    }
   ],
   "source": [
    "# User predictions\n",
    "\n",
    "import pandas as pd\n",
    "\n",
    "user_input = pd.DataFrame([[2012,1,'A',1,86.11,3.417,221.949864,6.908]], columns = ['Year','Store','Store_Type','Dept','Temperature','Fuel_Price','CPI','Unemployment'])\n",
    "\n",
    "user_input_transformed = transformer.transform(user_input)\n",
    "\n",
    "result = model.predict(user_input_transformed)\n",
    "print('The predicted value is :',result)"
   ]
  }
 ],
 "metadata": {
  "application/vnd.databricks.v1+notebook": {
   "dashboards": [],
   "language": "python",
   "notebookMetadata": {
    "pythonIndentUnit": 4
   },
   "notebookName": "ML Training",
   "widgets": {}
  },
  "language_info": {
   "name": "python"
  }
 },
 "nbformat": 4,
 "nbformat_minor": 0
}
